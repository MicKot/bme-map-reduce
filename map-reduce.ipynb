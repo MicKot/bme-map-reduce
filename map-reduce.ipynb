{
 "cells": [
  {
   "cell_type": "markdown",
   "metadata": {},
   "source": [
    "# Intro to map/reduce"
   ]
  },
  {
   "cell_type": "markdown",
   "metadata": {},
   "source": [
    "## Lambda function\n",
    "\n",
    "Python allows to create anonymous function, called lambda.\n",
    "Lambda function doesn't include return statement and doesn't have name."
   ]
  },
  {
   "cell_type": "code",
   "execution_count": 5,
   "metadata": {
    "collapsed": false
   },
   "outputs": [
    {
     "name": "stdout",
     "output_type": "stream",
     "text": [
      "8\n",
      "8\n"
     ]
    }
   ],
   "source": [
    "# Standard function\n",
    "def power(base, exponent):\n",
    "    return base**exponent\n",
    "\n",
    "print(power(2,3))\n",
    "\n",
    "# Lambda construction\n",
    "p = lambda b,e: b**e\n",
    "    \n",
    "print(p(2,3))"
   ]
  },
  {
   "cell_type": "markdown",
   "metadata": {},
   "source": [
    "\n",
    "## filter function"
   ]
  },
  {
   "cell_type": "code",
   "execution_count": 6,
   "metadata": {
    "collapsed": false
   },
   "outputs": [
    {
     "name": "stdout",
     "output_type": "stream",
     "text": [
      "[0, 1, 2, 3, 4, 5, 6, 7, 8, 9, 10, 11, 12, 13, 14, 15, 16, 17, 18, 19, 20, 21, 22, 23, 24, 25, 26, 27, 28, 29]\n"
     ]
    }
   ],
   "source": [
    "# We use list comprehension to create list with 100 numbers\n",
    "numbers = [x for x in range(30)]\n",
    "print(numbers)"
   ]
  },
  {
   "cell_type": "markdown",
   "metadata": {},
   "source": [
    "The filter resembles a for loop but it is a builtin function and faster.\n",
    "Filter always return an iterator!"
   ]
  },
  {
   "cell_type": "code",
   "execution_count": 7,
   "metadata": {
    "collapsed": false
   },
   "outputs": [
    {
     "name": "stdout",
     "output_type": "stream",
     "text": [
      "0\n",
      "5\n",
      "10\n",
      "15\n",
      "20\n",
      "25\n"
     ]
    }
   ],
   "source": [
    "# Simple function that return true when the number is divided by 5\n",
    "def is_divided_by_5(number):\n",
    "    if number % 5 == 0:\n",
    "        return True\n",
    "    else:\n",
    "        return False\n",
    "\n",
    "numbers_div5_iterator = filter(is_divided_by_5, numbers)\n",
    "\n",
    "# filter return iterator, so we need use for loop to get all elements\n",
    "for n in numbers_div5_iterator:\n",
    "    print(n)"
   ]
  },
  {
   "cell_type": "code",
   "execution_count": 8,
   "metadata": {
    "collapsed": false
   },
   "outputs": [
    {
     "name": "stdout",
     "output_type": "stream",
     "text": [
      "0\n",
      "5\n",
      "10\n",
      "15\n",
      "20\n",
      "25\n"
     ]
    }
   ],
   "source": [
    "# Similar code but with lambda construction\n",
    "numbers_div5_iterator = filter(lambda x: x % 5 == 0, numbers)\n",
    "\n",
    "for n in numbers_div5_iterator:\n",
    "    print(n)"
   ]
  },
  {
   "cell_type": "code",
   "execution_count": 9,
   "metadata": {
    "collapsed": false
   },
   "outputs": [
    {
     "name": "stdout",
     "output_type": "stream",
     "text": [
      "[0, 5, 10, 15, 20, 25]\n",
      "[]\n"
     ]
    }
   ],
   "source": [
    "numbers_div5_iterator = filter(lambda x: x % 5 == 0, numbers)\n",
    "\n",
    "# Simple way to create list from iterator\n",
    "numbers_div5_list = list(numbers_div5_iterator)\n",
    "print(numbers_div5_list)\n",
    "\n",
    "# HINT: iterator can be used only once\n",
    "#       Python's iterator protocol is very simple, and only provides \n",
    "#       one single method (.next() or __next__()), \n",
    "#       and no method to reset an iterator in general.\n",
    "\n",
    "numbers_div5_list = list(numbers_div5_iterator)\n",
    "print(numbers_div5_list)"
   ]
  },
  {
   "cell_type": "code",
   "execution_count": 10,
   "metadata": {
    "collapsed": false
   },
   "outputs": [
    {
     "name": "stdout",
     "output_type": "stream",
     "text": [
      "['Bob', 'Barbara']\n"
     ]
    }
   ],
   "source": [
    "# filter can be used with different type of lists\n",
    "\n",
    "names = ['Anne', 'Amy', 'Bob', 'David', 'Carrie', 'Barbara']\n",
    "names_start_with_b = list(filter(lambda s: s.startswith('B'), names))\n",
    "print(names_start_with_b)"
   ]
  },
  {
   "cell_type": "markdown",
   "metadata": {},
   "source": [
    "## map function\n",
    "\n",
    "Blueprint:   map(function_to_apply, list_of_inputs)"
   ]
  },
  {
   "cell_type": "code",
   "execution_count": 11,
   "metadata": {
    "collapsed": false
   },
   "outputs": [
    {
     "name": "stdout",
     "output_type": "stream",
     "text": [
      "List1:  [1, 2, 3, 4, 5]\n",
      "List2:  [6, 7, 8, 9, 10]\n",
      "List result:  [7, 9, 11, 13, 15]\n"
     ]
    }
   ],
   "source": [
    "list_1 = [x for x in range(1,6)]\n",
    "list_2 = [x for x in range(6,11)]\n",
    "\n",
    "print('List1: ', list_1)\n",
    "print('List2: ', list_2)\n",
    "list_result = list(map(lambda x,y:x+y, list_1,list_2))\n",
    "print('List result: ', list_result)"
   ]
  },
  {
   "cell_type": "markdown",
   "metadata": {},
   "source": [
    "## reduce function\n",
    "\n",
    "Blueprint:   map(function_to_apply, list_of_inputs)\n",
    "             list_of_inputs = [el_1, el_2, el_3]\n",
    "\n",
    "The function is used to apply a function to all of the list elements. \n",
    "1. At the beginning the first two elements of list is applied to the function\n",
    "2. In the next step functiom is applied on the previous result and the third element of the list: function(function(el_1, el_2),el_3)"
   ]
  },
  {
   "cell_type": "code",
   "execution_count": 12,
   "metadata": {
    "collapsed": false
   },
   "outputs": [
    {
     "name": "stdout",
     "output_type": "stream",
     "text": [
      "List1:  [1, 2, 3, 4, 5]\n",
      "List1 reduced:  15\n",
      "List1 reduced:  15\n"
     ]
    }
   ],
   "source": [
    "from functools import reduce\n",
    "\n",
    "def add(x,y):\n",
    "    return x + y\n",
    "\n",
    "list_1 = [x for x in range(1,6)]\n",
    "\n",
    "print('List1: ', list_1)\n",
    "print('List1 reduced: ', reduce(add, list_1))\n",
    "\n",
    "# The same example using lambda func\n",
    "print('List1 reduced: ', reduce(lambda x,y: x+y, list_1))"
   ]
  },
  {
   "cell_type": "markdown",
   "metadata": {},
   "source": [
    "## TODO"
   ]
  },
  {
   "cell_type": "code",
   "execution_count": 13,
   "metadata": {
    "collapsed": false
   },
   "outputs": [
    {
     "name": "stdout",
     "output_type": "stream",
     "text": [
      "[6, 5, 6, 7]\n"
     ]
    }
   ],
   "source": [
    "xx = ['Snappy', 'Kitty', 'Jessie', 'Chester']\n",
    "#xx = [1,2,3]\n",
    "\n",
    "# TODO Create a list with the number of character of each word. Use map & len function\n",
    "no_of_char = list(map(lambda x: len(x),xx))\n",
    "print(no_of_char)\n"
   ]
  },
  {
   "cell_type": "code",
   "execution_count": 1,
   "metadata": {
    "collapsed": false
   },
   "outputs": [
    {
     "name": "stdout",
     "output_type": "stream",
     "text": [
      "46\n"
     ]
    }
   ],
   "source": [
    "from functools import reduce\n",
    "import string\n",
    "\n",
    "sentences = \"Lorem ipsum dolor sit amet, consectetuer adipiscing elit. Donec odio. \\\n",
    "Quisque volutpat mattis eros. Nullam malesuada erat ut turpis. Suspendisse urna nibh, \\\n",
    "viverra non, semper suscipit, posuere a, pede. \\\n",
    "Donec nec justo eget felis facilisis fermentum. Aliquam porttitor mauris sit amet orci. \\\n",
    "Aenean dignissim pellentesque felis.\"\n",
    "\n",
    "# TODO Find the number of words in the sentence:\n",
    "\n",
    "## Hint:\n",
    "# 1. remove punctuations\n",
    "\n",
    "exclude = set(string.punctuation)\n",
    "sentences = ''.join(ch for ch in sentences  if ch not in exclude)\n",
    "#print(sentences)\n",
    "\n",
    "# 2. split the resulting sentence\n",
    "\n",
    "words = sentences.split()\n",
    "#print(words)\n",
    "\n",
    "# 3. map \"1\" to each word of sentence\n",
    "\n",
    "words = list(map(lambda x: 1, words))\n",
    "\n",
    "# 4. reduce to find the number of words in the sentence\n",
    "\n",
    "nrofwords = reduce(lambda x,y: x+y, words)\n",
    "print(nrofwords)"
   ]
  },
  {
   "cell_type": "code",
   "execution_count": 60,
   "metadata": {
    "collapsed": false
   },
   "outputs": [
    {
     "name": "stdout",
     "output_type": "stream",
     "text": [
      "Apr-04 cola 1 5\n",
      "Dec-15 cola 2 4\n",
      "Feb-02 Sandwich 3 22\n",
      "Mar-03 burger 8 11\n",
      "Feb-22 Sandwich 3 22\n",
      "Feb-23 burger 5 15\n",
      "Mar-08 burger 2 14\n",
      "\n",
      "Najwięcej sprzedano produktów : burger - 15\n",
      "[('burger', 15, 2.67), ('Sandwich', 6, 7.33), ('cola', 3, 3.0)]\n"
     ]
    }
   ],
   "source": [
    "# Log:  Date product no_of_items price\n",
    "from functools import reduce\n",
    "\n",
    "log_1 = \"\"\"Apr-04 cola 1 5\n",
    "Dec-15 cola 2 4\n",
    "Feb-02 Sandwich 3 22\n",
    "Mar-03 burger 8 11\n",
    "Feb-22 Sandwich 3 22\n",
    "Feb-23 burger 5 15\n",
    "Mar-08 burger 2 14\"\"\"    ## Add more examples\n",
    "\n",
    "print(log_1)\n",
    "\n",
    "# TODO Find the best-selling item\n",
    "lines = log_1.splitlines()\n",
    "\n",
    "words = [x.split() for x in lines]\n",
    "\n",
    "products = list(map(lambda x: x[1],words))\n",
    "items = list(map(lambda x: int(x[2]),words))\n",
    "price = list(map(lambda x: int(x[3]),words))\n",
    "    \n",
    "products_set = list(set(products))\n",
    "items_set = [0]*len(products_set)\n",
    "price_set = [0]*len(products_set)\n",
    "\n",
    "\n",
    "for x,val in enumerate(products) :\n",
    "    for y,prod in enumerate(products_set) :\n",
    "        if prod == val :\n",
    "            items_set[y]+=items[x]\n",
    "            price_set[y]+=price[x]\n",
    "            \n",
    "index_max=items_set.index(max(items_set))\n",
    "\n",
    "print(\"\\nNajwięcej sprzedano produktów : {} - {}\".format(products_set[index_max],items_set[index_max]))\n",
    "\n",
    "average_price=list(map(lambda x,y: round(y/x,2),items_set,price_set))\n",
    "\n",
    "#print(average_price)\n",
    "\n",
    "# TODO Create sales summary  [(product, total_items, average_price), (product, total_items, average_price) ...] \n",
    "\n",
    "Summary=list(map(lambda x,y,z: (x,y,z),products_set,items_set,average_price))\n",
    "print(Summary)"
   ]
  },
  {
   "cell_type": "markdown",
   "metadata": {},
   "source": [
    "## Miniproject\n",
    "\n",
    "1. Import book, clean the text and get the total number of words\n",
    "https://www.gutenberg.org/files/11/11-0.txt\n",
    "\n",
    "2. Try to run your script with text that include all TOP100 books from https://www.gutenberg.org/browse/scores/top\n",
    "\n",
    "3. What problems could appear during processing? Create a script to measure the execution/processing time. \n"
   ]
  },
  {
   "cell_type": "code",
   "execution_count": 142,
   "metadata": {
    "collapsed": false
   },
   "outputs": [
    {
     "name": "stdout",
     "output_type": "stream",
     "text": [
      "29390\n",
      "0.12609148025512695\n"
     ]
    }
   ],
   "source": [
    "import urllib.request\n",
    "import string\n",
    "import time\n",
    "\n",
    "\n",
    "txt = str(urllib.request.urlopen('http://www.gutenberg.org/files/11/11-0.txt').read().decode(encoding='utf-8'))\n",
    "\n",
    "start = time.time()\n",
    "\n",
    "exclude = set(string.punctuation)\n",
    "txt = ''.join(ch for ch in txt  if ch not in exclude)\n",
    "\n",
    "words = txt.split()\n",
    "words = list(map(lambda x: 1, words))\n",
    "#nrofwords= len(words)\n",
    "nrofwords = reduce(lambda x,y: x+y, words)\n",
    "print(nrofwords)\n",
    "\n",
    "end = time.time()\n",
    "print(end - start)"
   ]
  },
  {
   "cell_type": "code",
   "execution_count": 197,
   "metadata": {
    "collapsed": false
   },
   "outputs": [
    {
     "name": "stdout",
     "output_type": "stream",
     "text": [
      "Processing: [--------------------------------------------------------------------------------------------------->] 100%\n",
      "Couldn't open links for: ['5740']\n"
     ]
    }
   ],
   "source": [
    "import urllib.request\n",
    "import string\n",
    "import time\n",
    "import re\n",
    "import sys\n",
    "\n",
    "\n",
    "def progressBar(value, endvalue, bar_length=100):\n",
    "\n",
    "        percent = float(value) / endvalue\n",
    "        arrow = '-' * int(round(percent * bar_length)-1) + '>'\n",
    "        spaces = ' ' * (bar_length - len(arrow))\n",
    "\n",
    "        sys.stdout.write(\"\\rProcessing: [{0}] {1}%\".format(arrow + spaces, int(round(percent * 100))))\n",
    "        sys.stdout.flush()\n",
    "        \n",
    "    \n",
    "start = time.time()\n",
    "txt = str(urllib.request.urlopen('https://www.gutenberg.org/browse/scores/top').read().decode(encoding='utf-8'))\n",
    "\n",
    "ebooks_links = re.findall(r'(ebooks\\/[0-9]+)',txt)\n",
    "#print(p)\n",
    "ebooks_links = ebooks_links[0:100]\n",
    "ebooks_links = list(map(lambda x: x[7:],ebooks_links))\n",
    "#print(ebooks_links)\n",
    "\n",
    "nrofwords = []\n",
    "times = []\n",
    "wronglinks = []\n",
    "x=0\n",
    "\n",
    "for link in ebooks_links :\n",
    "    url=\"http://www.gutenberg.org/cache/epub/{}/pg{}.txt\".format(link,link)\n",
    "    \n",
    "    x+=1\n",
    "    progressBar(x,100)\n",
    "    \n",
    "    try:\n",
    "        txt= str(urllib.request.urlopen(url).read().decode(encoding='utf-8',errors='ignore'))\n",
    "    except urllib.request.HTTPError:\n",
    "        try:\n",
    "            url2=\"https://www.gutenberg.org/files/{}/{}-0.txt\".format(link,link)\n",
    "            txt= str(urllib.request.urlopen(url2).read().decode(encoding='utf-8',errors='ignore'))\n",
    "        except urllib.request.HTTPError:\n",
    "            wronglinks.append(link)\n",
    "            continue    \n",
    "    \n",
    "    start = time.time()\n",
    "\n",
    "    exclude = set(string.punctuation)\n",
    "    txt = ''.join(ch for ch in txt  if ch not in exclude)\n",
    "\n",
    "    words = txt.split()\n",
    "    words = list(map(lambda x: 1, words))\n",
    "    \n",
    "    nrofwords.append(reduce(lambda x,y: x+y, words))\n",
    "        \n",
    "\n",
    "    end = time.time()\n",
    "    times.append(end-start)\n",
    "\n",
    "print(\"\\nCouldn't open links for: {}\".format(wronglinks))"
   ]
  },
  {
   "cell_type": "code",
   "execution_count": 199,
   "metadata": {
    "collapsed": false
   },
   "outputs": [
    {
     "data": {
      "text/html": [
       "<script>requirejs.config({paths: { 'plotly': ['https://cdn.plot.ly/plotly-latest.min']},});if(!window.Plotly) {{require(['plotly'],function(plotly) {window.Plotly=plotly;});}}</script>"
      ],
      "text/vnd.plotly.v1+html": [
       "<script>requirejs.config({paths: { 'plotly': ['https://cdn.plot.ly/plotly-latest.min']},});if(!window.Plotly) {{require(['plotly'],function(plotly) {window.Plotly=plotly;});}}</script>"
      ]
     },
     "metadata": {},
     "output_type": "display_data"
    },
    {
     "data": {
      "application/vnd.plotly.v1+json": {
       "data": [
        {
         "mode": "markers",
         "type": "scatter",
         "x": [
          8871,
          2125,
          23612,
          31544,
          77970,
          29467,
          691,
          25090,
          107513,
          52533,
          7791,
          17897,
          163722,
          6621,
          10552,
          5641,
          3214,
          81951,
          216297,
          1201,
          41937,
          191921,
          41931,
          23418,
          13466,
          43767,
          71754,
          11772,
          14910,
          192617,
          2174,
          44812,
          3662,
          71274,
          6440,
          65000,
          11318,
          61959,
          188428,
          124712,
          219195,
          5214,
          195373,
          41617,
          53152,
          3621,
          9300,
          121573,
          42156,
          107268,
          46782,
          171830,
          86624,
          34810,
          24974,
          118859,
          36567,
          260852,
          95722,
          49420,
          4501,
          14873,
          20292,
          8590,
          71680,
          3463,
          5042,
          22707,
          65674,
          114839,
          388,
          79009,
          42588,
          2831,
          118851,
          28746,
          38767,
          7972,
          34926,
          193479,
          903705,
          36871,
          35296,
          25548,
          76606,
          6741,
          4537,
          10089,
          28966,
          62936,
          824128,
          11682,
          160979,
          1692,
          3805,
          25902,
          55055,
          7679,
          74578
         ],
         "y": [
          0.0360255241394043,
          0.010007381439208984,
          0.04803466796875,
          0.0755610466003418,
          0.20814275741577148,
          0.05704045295715332,
          0.002501964569091797,
          0.049535274505615234,
          0.1936337947845459,
          0.0960686206817627,
          0.0265195369720459,
          0.064544677734375,
          0.2591841220855713,
          0.027518272399902344,
          0.031029462814331055,
          0.019513845443725586,
          0.013005256652832031,
          0.14810538291931152,
          0.36826157569885254,
          0.00450587272644043,
          0.07457160949707031,
          0.34424543380737305,
          0.21965527534484863,
          0.13859796524047852,
          0.06805062294006348,
          0.1340947151184082,
          0.3192250728607178,
          0.04353046417236328,
          0.02599787712097168,
          0.3807697296142578,
          0.014508962631225586,
          0.5663940906524658,
          0.01952219009399414,
          0.28870487213134766,
          0.009005069732666016,
          0.08856058120727539,
          0.018511533737182617,
          0.1195828914642334,
          0.3182260990142822,
          0.20914745330810547,
          0.4052872657775879,
          0.013524770736694336,
          0.3652374744415283,
          0.16261529922485352,
          0.08055758476257324,
          0.013521909713745117,
          0.03202414512634277,
          0.18613314628601074,
          0.07605457305908203,
          0.16311407089233398,
          0.08105874061584473,
          0.2736935615539551,
          0.15761137008666992,
          0.13708710670471191,
          0.03752565383911133,
          0.23066163063049316,
          0.067047119140625,
          0.4668304920196533,
          0.17862677574157715,
          0.08956289291381836,
          0.015511035919189453,
          0.05155539512634277,
          0.03752255439758301,
          0.01701188087463379,
          0.12808966636657715,
          0.010510921478271484,
          0.024015426635742188,
          0.0380091667175293,
          0.10657477378845215,
          0.1961362361907959,
          0.002001047134399414,
          0.12608742713928223,
          0.05854034423828125,
          0.009005546569824219,
          0.1786341667175293,
          0.039526939392089844,
          0.06852841377258301,
          0.025020599365234375,
          0.07505249977111816,
          0.3357372283935547,
          1.7707569599151611,
          0.07955384254455566,
          0.04753446578979492,
          0.051535844802856445,
          0.13459515571594238,
          0.007990360260009766,
          0.014011144638061523,
          0.014025688171386719,
          0.0420379638671875,
          0.11057686805725098,
          1.508070468902588,
          0.05604076385498047,
          0.3022143840789795,
          0.007008790969848633,
          0.013509273529052734,
          0.1010584831237793,
          0.08655619621276855,
          0.032520294189453125,
          0.13959860801696777
         ]
        }
       ],
       "layout": {
        "title": "Time to proces data",
        "xaxis": {
         "title": "Number of words",
         "titlefont": {
          "color": "#7f7f7f",
          "family": "Cambria, monospace",
          "size": 18
         }
        },
        "yaxis": {
         "title": "Time [s]",
         "titlefont": {
          "color": "#7f7f7f",
          "family": "Cambria, monospace",
          "size": 18
         }
        }
       }
      },
      "text/html": [
       "<div id=\"bde89c85-fb6e-47ce-8827-42da2a231164\" style=\"height: 525px; width: 100%;\" class=\"plotly-graph-div\"></div><script type=\"text/javascript\">require([\"plotly\"], function(Plotly) { window.PLOTLYENV=window.PLOTLYENV || {};window.PLOTLYENV.BASE_URL=\"https://plot.ly\";Plotly.newPlot(\"bde89c85-fb6e-47ce-8827-42da2a231164\", [{\"type\": \"scatter\", \"x\": [8871, 2125, 23612, 31544, 77970, 29467, 691, 25090, 107513, 52533, 7791, 17897, 163722, 6621, 10552, 5641, 3214, 81951, 216297, 1201, 41937, 191921, 41931, 23418, 13466, 43767, 71754, 11772, 14910, 192617, 2174, 44812, 3662, 71274, 6440, 65000, 11318, 61959, 188428, 124712, 219195, 5214, 195373, 41617, 53152, 3621, 9300, 121573, 42156, 107268, 46782, 171830, 86624, 34810, 24974, 118859, 36567, 260852, 95722, 49420, 4501, 14873, 20292, 8590, 71680, 3463, 5042, 22707, 65674, 114839, 388, 79009, 42588, 2831, 118851, 28746, 38767, 7972, 34926, 193479, 903705, 36871, 35296, 25548, 76606, 6741, 4537, 10089, 28966, 62936, 824128, 11682, 160979, 1692, 3805, 25902, 55055, 7679, 74578], \"y\": [0.0360255241394043, 0.010007381439208984, 0.04803466796875, 0.0755610466003418, 0.20814275741577148, 0.05704045295715332, 0.002501964569091797, 0.049535274505615234, 0.1936337947845459, 0.0960686206817627, 0.0265195369720459, 0.064544677734375, 0.2591841220855713, 0.027518272399902344, 0.031029462814331055, 0.019513845443725586, 0.013005256652832031, 0.14810538291931152, 0.36826157569885254, 0.00450587272644043, 0.07457160949707031, 0.34424543380737305, 0.21965527534484863, 0.13859796524047852, 0.06805062294006348, 0.1340947151184082, 0.3192250728607178, 0.04353046417236328, 0.02599787712097168, 0.3807697296142578, 0.014508962631225586, 0.5663940906524658, 0.01952219009399414, 0.28870487213134766, 0.009005069732666016, 0.08856058120727539, 0.018511533737182617, 0.1195828914642334, 0.3182260990142822, 0.20914745330810547, 0.4052872657775879, 0.013524770736694336, 0.3652374744415283, 0.16261529922485352, 0.08055758476257324, 0.013521909713745117, 0.03202414512634277, 0.18613314628601074, 0.07605457305908203, 0.16311407089233398, 0.08105874061584473, 0.2736935615539551, 0.15761137008666992, 0.13708710670471191, 0.03752565383911133, 0.23066163063049316, 0.067047119140625, 0.4668304920196533, 0.17862677574157715, 0.08956289291381836, 0.015511035919189453, 0.05155539512634277, 0.03752255439758301, 0.01701188087463379, 0.12808966636657715, 0.010510921478271484, 0.024015426635742188, 0.0380091667175293, 0.10657477378845215, 0.1961362361907959, 0.002001047134399414, 0.12608742713928223, 0.05854034423828125, 0.009005546569824219, 0.1786341667175293, 0.039526939392089844, 0.06852841377258301, 0.025020599365234375, 0.07505249977111816, 0.3357372283935547, 1.7707569599151611, 0.07955384254455566, 0.04753446578979492, 0.051535844802856445, 0.13459515571594238, 0.007990360260009766, 0.014011144638061523, 0.014025688171386719, 0.0420379638671875, 0.11057686805725098, 1.508070468902588, 0.05604076385498047, 0.3022143840789795, 0.007008790969848633, 0.013509273529052734, 0.1010584831237793, 0.08655619621276855, 0.032520294189453125, 0.13959860801696777], \"mode\": \"markers\"}], {\"title\": \"Time to proces data\", \"xaxis\": {\"title\": \"Number of words\", \"titlefont\": {\"family\": \"Cambria, monospace\", \"size\": 18, \"color\": \"#7f7f7f\"}}, \"yaxis\": {\"title\": \"Time [s]\", \"titlefont\": {\"family\": \"Cambria, monospace\", \"size\": 18, \"color\": \"#7f7f7f\"}}}, {\"showLink\": true, \"linkText\": \"Export to plot.ly\"})});</script>"
      ],
      "text/vnd.plotly.v1+html": [
       "<div id=\"bde89c85-fb6e-47ce-8827-42da2a231164\" style=\"height: 525px; width: 100%;\" class=\"plotly-graph-div\"></div><script type=\"text/javascript\">require([\"plotly\"], function(Plotly) { window.PLOTLYENV=window.PLOTLYENV || {};window.PLOTLYENV.BASE_URL=\"https://plot.ly\";Plotly.newPlot(\"bde89c85-fb6e-47ce-8827-42da2a231164\", [{\"type\": \"scatter\", \"x\": [8871, 2125, 23612, 31544, 77970, 29467, 691, 25090, 107513, 52533, 7791, 17897, 163722, 6621, 10552, 5641, 3214, 81951, 216297, 1201, 41937, 191921, 41931, 23418, 13466, 43767, 71754, 11772, 14910, 192617, 2174, 44812, 3662, 71274, 6440, 65000, 11318, 61959, 188428, 124712, 219195, 5214, 195373, 41617, 53152, 3621, 9300, 121573, 42156, 107268, 46782, 171830, 86624, 34810, 24974, 118859, 36567, 260852, 95722, 49420, 4501, 14873, 20292, 8590, 71680, 3463, 5042, 22707, 65674, 114839, 388, 79009, 42588, 2831, 118851, 28746, 38767, 7972, 34926, 193479, 903705, 36871, 35296, 25548, 76606, 6741, 4537, 10089, 28966, 62936, 824128, 11682, 160979, 1692, 3805, 25902, 55055, 7679, 74578], \"y\": [0.0360255241394043, 0.010007381439208984, 0.04803466796875, 0.0755610466003418, 0.20814275741577148, 0.05704045295715332, 0.002501964569091797, 0.049535274505615234, 0.1936337947845459, 0.0960686206817627, 0.0265195369720459, 0.064544677734375, 0.2591841220855713, 0.027518272399902344, 0.031029462814331055, 0.019513845443725586, 0.013005256652832031, 0.14810538291931152, 0.36826157569885254, 0.00450587272644043, 0.07457160949707031, 0.34424543380737305, 0.21965527534484863, 0.13859796524047852, 0.06805062294006348, 0.1340947151184082, 0.3192250728607178, 0.04353046417236328, 0.02599787712097168, 0.3807697296142578, 0.014508962631225586, 0.5663940906524658, 0.01952219009399414, 0.28870487213134766, 0.009005069732666016, 0.08856058120727539, 0.018511533737182617, 0.1195828914642334, 0.3182260990142822, 0.20914745330810547, 0.4052872657775879, 0.013524770736694336, 0.3652374744415283, 0.16261529922485352, 0.08055758476257324, 0.013521909713745117, 0.03202414512634277, 0.18613314628601074, 0.07605457305908203, 0.16311407089233398, 0.08105874061584473, 0.2736935615539551, 0.15761137008666992, 0.13708710670471191, 0.03752565383911133, 0.23066163063049316, 0.067047119140625, 0.4668304920196533, 0.17862677574157715, 0.08956289291381836, 0.015511035919189453, 0.05155539512634277, 0.03752255439758301, 0.01701188087463379, 0.12808966636657715, 0.010510921478271484, 0.024015426635742188, 0.0380091667175293, 0.10657477378845215, 0.1961362361907959, 0.002001047134399414, 0.12608742713928223, 0.05854034423828125, 0.009005546569824219, 0.1786341667175293, 0.039526939392089844, 0.06852841377258301, 0.025020599365234375, 0.07505249977111816, 0.3357372283935547, 1.7707569599151611, 0.07955384254455566, 0.04753446578979492, 0.051535844802856445, 0.13459515571594238, 0.007990360260009766, 0.014011144638061523, 0.014025688171386719, 0.0420379638671875, 0.11057686805725098, 1.508070468902588, 0.05604076385498047, 0.3022143840789795, 0.007008790969848633, 0.013509273529052734, 0.1010584831237793, 0.08655619621276855, 0.032520294189453125, 0.13959860801696777], \"mode\": \"markers\"}], {\"title\": \"Time to proces data\", \"xaxis\": {\"title\": \"Number of words\", \"titlefont\": {\"family\": \"Cambria, monospace\", \"size\": 18, \"color\": \"#7f7f7f\"}}, \"yaxis\": {\"title\": \"Time [s]\", \"titlefont\": {\"family\": \"Cambria, monospace\", \"size\": 18, \"color\": \"#7f7f7f\"}}}, {\"showLink\": true, \"linkText\": \"Export to plot.ly\"})});</script>"
      ]
     },
     "metadata": {},
     "output_type": "display_data"
    }
   ],
   "source": [
    "from plotly import __version__\n",
    "import plotly.graph_objs as go\n",
    "from plotly.offline import download_plotlyjs, init_notebook_mode, plot, iplot\n",
    "init_notebook_mode(connected=True)\n",
    "\n",
    "trace = go.Scatter(\n",
    "    x = nrofwords,\n",
    "    y = times,\n",
    "    mode = 'markers'\n",
    ")\n",
    "\n",
    "layout = dict(title = 'Time to proces data',\n",
    "              xaxis=dict(\n",
    "                title='Number of words',\n",
    "                titlefont=dict(\n",
    "                    family='Cambria, monospace',\n",
    "                    size=18,\n",
    "                    color='#7f7f7f'\n",
    "                    )\n",
    "                ),\n",
    "                yaxis=dict(\n",
    "                    title='Time [s]',\n",
    "                    titlefont=dict(\n",
    "                        family='Cambria, monospace',\n",
    "                        size=18,\n",
    "                        color='#7f7f7f'\n",
    "                    )\n",
    "                )\n",
    "            )\n",
    "\n",
    "data = [trace]\n",
    "\n",
    "fig= dict(data=data, layout=layout)\n",
    "\n",
    "iplot(fig, filename='basic-scatter')"
   ]
  },
  {
   "cell_type": "code",
   "execution_count": null,
   "metadata": {
    "collapsed": true
   },
   "outputs": [],
   "source": []
  }
 ],
 "metadata": {
  "kernelspec": {
   "display_name": "Python 3",
   "language": "python",
   "name": "python3"
  },
  "language_info": {
   "codemirror_mode": {
    "name": "ipython",
    "version": 3
   },
   "file_extension": ".py",
   "mimetype": "text/x-python",
   "name": "python",
   "nbconvert_exporter": "python",
   "pygments_lexer": "ipython3",
   "version": "3.6.0"
  }
 },
 "nbformat": 4,
 "nbformat_minor": 2
}
